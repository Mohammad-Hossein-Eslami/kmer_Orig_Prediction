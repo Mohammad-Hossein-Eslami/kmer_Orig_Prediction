{
  "cells": [
    {
      "cell_type": "markdown",
      "source": [
        "Mohammad Hossein Eslami 401105537"
      ],
      "metadata": {
        "id": "wiKoPS9k-WIr"
      },
      "id": "wiKoPS9k-WIr"
    },
    {
      "cell_type": "markdown",
      "id": "c74d3bf2",
      "metadata": {
        "id": "c74d3bf2"
      },
      "source": [
        "\n",
        "# k-mer counting: canonical k-mers, reverse complements, and fast rolling implementation\n",
        "\n",
        "This notebook collects explanations and **full, working code** for the \"k-mer and its reverse complement frequency\" problem.\n",
        "It contains:\n",
        "\n",
        "- Definitions and intuition.\n",
        "- Mathematical formulas for canonical k-mer counts (including palindromes).\n",
        "- A **simple** (easy-to-read) canonical k-mer counter (string-based).\n",
        "- A **fast rolling** 2-bit encoded canonical k-mer counter (O(1) per step).\n",
        "- Options: strand-aware vs strand-agnostic (canonical), skip ambiguous bases (`N`), palindromes handling.\n",
        "- Utilities: FASTA reader, example runs and tests, a tiny de Bruijn graph builder that uses canonical k-mers.\n",
        "- Example outputs and a small demo dataset.\n",
        "\n",
        "You can run the notebook cells or download the notebook file.\n"
      ]
    },
    {
      "cell_type": "markdown",
      "id": "735013b5",
      "metadata": {
        "id": "735013b5"
      },
      "source": [
        "\n",
        "## Combinatorics recap\n",
        "\n",
        "- Total distinct k-mers: $4^k$.\n",
        "- Palindromic k-mers (equal to their reverse complement):\n",
        "  - If k is odd: 0 palindromes.\n",
        "  - If k is even: $4^{(k/2)}$ palindromes.\n",
        "- Number of canonical representatives (one per {k-mer, RC} pair):\n",
        "\n",
        "canonical_count = $\\frac{(4^k + pkmers)}{2}$\n"
      ]
    },
    {
      "cell_type": "code",
      "execution_count": 1,
      "id": "da3d2a0f",
      "metadata": {
        "id": "da3d2a0f"
      },
      "outputs": [],
      "source": [
        "\n",
        "# --- Utilities: reverse complement, canonicalization, FASTA reader, formula functions ---\n",
        "\n",
        "COMP = str.maketrans('ACGTacgt', 'TGCAtgca')\n",
        "\n",
        "def rev_comp(s: str) -> str:\n",
        "    \"\"\"Return reverse complement of DNA string s (assumes A,C,G,T,N).\"\"\"\n",
        "    return s.translate(COMP)[::-1]\n",
        "\n",
        "def canonical_kmer(s: str) -> str:\n",
        "    \"\"\"Return canonical representative (lexicographically smaller of s and its RC).\"\"\"\n",
        "    rc = rev_comp(s)\n",
        "    return s if s <= rc else rc\n",
        "\n",
        "def is_palindrome_kmer(s: str) -> bool:\n",
        "    return s == rev_comp(s)\n",
        "\n",
        "def canonical_space_size(k: int) -> int:\n",
        "    total = 4**k\n",
        "    pal = 0 if (k % 2 == 1) else 4**(k//2)\n",
        "    return (total + pal) // 2\n",
        "\n",
        "def read_fasta(fp):\n",
        "    \"\"\"Generator: yields (header, sequence) pairs from a FASTA file-like object or path.\"\"\"\n",
        "    if isinstance(fp, str):\n",
        "        f = open(fp, 'r')\n",
        "        close_after = True\n",
        "    else:\n",
        "        f = fp\n",
        "        close_after = False\n",
        "\n",
        "    header = None\n",
        "    seq_chunks = []\n",
        "    for line in f:\n",
        "        line = line.rstrip('\\n')\n",
        "        if not line:\n",
        "            continue\n",
        "        if line.startswith('>'):\n",
        "            if header is not None:\n",
        "                yield header, ''.join(seq_chunks)\n",
        "            header = line[1:].strip()\n",
        "            seq_chunks = []\n",
        "        else:\n",
        "            seq_chunks.append(line.strip())\n",
        "    if header is not None:\n",
        "        yield header, ''.join(seq_chunks)\n",
        "    if close_after:\n",
        "        f.close()\n"
      ]
    },
    {
      "cell_type": "code",
      "execution_count": 3,
      "id": "27286544",
      "metadata": {
        "id": "27286544"
      },
      "outputs": [],
      "source": [
        "\n",
        "# --- Simple canonical counter (string-based) ---\n",
        "from collections import defaultdict\n",
        "\n",
        "def count_kmers_simple(seq: str, k: int, strand_aware: bool=False, skip_ambiguous: bool=True):\n",
        "    \"\"\"Count k-mers in sequence `seq`.\n",
        "    - strand_aware=False (default): canonicalize k-mer with its reverse complement (merge counts).\n",
        "    - strand_aware=True: keep separate counts for k-mer and its RC.\n",
        "    - skip_ambiguous: skip any k-mer containing characters outside ACGT (e.g. 'N').\n",
        "    Returns a dict mapping k-mer (or canonical k-mer) -> count.\n",
        "    \"\"\"\n",
        "    seq = seq.upper()\n",
        "    counts = defaultdict(int)\n",
        "    n = len(seq)\n",
        "    for i in range(n - k + 1):\n",
        "        kmer = seq[i:i+k]\n",
        "        if skip_ambiguous and any(ch not in 'ACGT' for ch in kmer):\n",
        "            continue\n",
        "        if strand_aware:\n",
        "            counts[kmer] += 1\n",
        "        else:\n",
        "            key = canonical_kmer(kmer)\n",
        "            counts[key] += 1\n",
        "    return dict(counts)\n"
      ]
    },
    {
      "cell_type": "code",
      "execution_count": 4,
      "id": "0d6c2201",
      "metadata": {
        "id": "0d6c2201"
      },
      "outputs": [],
      "source": [
        "\n",
        "# --- Fast rolling 2-bit encoded canonical counter (O(1) per k-mer step) ---\n",
        "# Mapping: A->0, C->1, G->2, T->3 (2 bits each)\n",
        "BASE2 = {'A':0, 'C':1, 'G':2, 'T':3}\n",
        "COMP2 = {0:3, 1:2, 2:1, 3:0}  # complement in 2-bit space (A<->T, C<->G)\n",
        "\n",
        "def int_to_kmer(code: int, k: int) -> str:\n",
        "    \"\"\"Convert integer code (2-bit per base) to k-mer string (forward orientation)\"\"\"\n",
        "    res = []\n",
        "    for i in range(k-1, -1, -1):\n",
        "        bits = (code >> (2*i)) & 3\n",
        "        res.append('ACGT'[bits])\n",
        "    return ''.join(res)\n",
        "\n",
        "def count_kmers_rolling(seq: str, k: int, strand_aware: bool=False, skip_ambiguous: bool=True):\n",
        "    \"\"\"Rolling implementation using 2-bit encoding.\n",
        "    Returns dict mapping canonical k-mer string (or k-mer if strand_aware) -> count.\n",
        "    This returns strings as keys for user-friendliness, but uses integers internally for speed.\n",
        "    \"\"\"\n",
        "    seq = seq.upper()\n",
        "    n = len(seq)\n",
        "    if k <= 0 or n < k:\n",
        "        return {}\n",
        "    mask = (1 << (2*k)) - 1\n",
        "    fwd = 0  # integer code for forward k-mer\n",
        "    rc = 0   # integer code for reverse complement of the k-mer (as if reading reversed)\n",
        "    counts = {}\n",
        "    valid = 0  # number of consecutive valid bases seen for rolling window\n",
        "\n",
        "    for i, ch in enumerate(seq):\n",
        "        if ch not in BASE2:\n",
        "            # ambiguous base -> reset rolling window\n",
        "            valid = 0\n",
        "            fwd = 0\n",
        "            rc = 0\n",
        "            continue\n",
        "        val = BASE2[ch]\n",
        "        # update forward: append low-order bits\n",
        "        fwd = ((fwd << 2) | val) & mask\n",
        "        # update reverse-complement: we prepend complement(val) at the high bits position\n",
        "        rc = (rc >> 2) | (COMP2[val] << (2*(k-1)))\n",
        "        valid += 1\n",
        "        if valid >= k:\n",
        "            # decode both integers to strings if needed, or choose canonical by integer min\n",
        "            if strand_aware:\n",
        "                kmer = int_to_kmer(fwd, k)\n",
        "                counts[kmer] = counts.get(kmer, 0) + 1\n",
        "            else:\n",
        "                # choose canonical by integer comparison: but note rc currently is code for RC(kmer)\n",
        "                # We must compare the integer codes corresponding to the same orientation.\n",
        "                # fwd is forward code; rc is reverse-complement code **in forward orientation**,\n",
        "                # so we can directly min() them to pick canonical integer.\n",
        "                can_int = fwd if fwd <= rc else rc\n",
        "                can_kmer = int_to_kmer(can_int, k)\n",
        "                counts[can_kmer] = counts.get(can_kmer, 0) + 1\n",
        "    return counts\n"
      ]
    },
    {
      "cell_type": "code",
      "execution_count": 5,
      "id": "79bd2fd7",
      "metadata": {
        "id": "79bd2fd7"
      },
      "outputs": [],
      "source": [
        "\n",
        "# --- Tiny de Bruijn graph builder (using canonical k-mers as nodes) ---\n",
        "from collections import defaultdict\n",
        "\n",
        "def build_debruijn_from_counts(counts: dict, k: int):\n",
        "    \"\"\"Build a de Bruijn graph as adjacency dict from canonical k-mer counts.\n",
        "    Nodes are canonical (k-1)-mers. Edges are canonical k-mers linking prefix->suffix.\n",
        "    Returns adjacency: node -> dict(neighbor -> weight)\n",
        "    \"\"\"\n",
        "    adj = defaultdict(lambda: defaultdict(int))\n",
        "    for can_kmer, w in counts.items():\n",
        "        # Note: counts may already be canonical k-mers (k length).\n",
        "        if len(can_kmer) != k:\n",
        "            continue\n",
        "        prefix = can_kmer[:-1]\n",
        "        suffix = can_kmer[1:]\n",
        "        adj[prefix][suffix] += w\n",
        "    return {u: dict(v) for u,v in adj.items()}\n"
      ]
    },
    {
      "cell_type": "code",
      "execution_count": 6,
      "id": "58b35098",
      "metadata": {
        "id": "58b35098",
        "colab": {
          "base_uri": "https://localhost:8080/"
        },
        "outputId": "761e1c6c-3687-493c-b2e9-182c976e1e42"
      },
      "outputs": [
        {
          "output_type": "stream",
          "name": "stdout",
          "text": [
            "Sequence: ATGCGCAT\n",
            "\n",
            "Simple canonical counts:\n",
            "{'ATG': 2, 'GCA': 2, 'CGC': 2}\n",
            "\n",
            "Simple strand-aware counts:\n",
            "{'ATG': 1, 'TGC': 1, 'GCG': 1, 'CGC': 1, 'GCA': 1, 'CAT': 1}\n",
            "\n",
            "Rolling canonical counts:\n",
            "{'ATG': 2, 'GCA': 2, 'CGC': 2}\n",
            "\n",
            "Rolling strand-aware counts:\n",
            "{'ATG': 1, 'TGC': 1, 'GCG': 1, 'CGC': 1, 'GCA': 1, 'CAT': 1}\n",
            "\n",
            "Canonical space sizes for k=1..6:\n",
            "1 2\n",
            "2 10\n",
            "3 32\n",
            "4 136\n",
            "5 512\n",
            "6 2080\n"
          ]
        }
      ],
      "source": [
        "\n",
        "# --- Demo: small examples & tests ---\n",
        "if __name__ == '__main__':\n",
        "    seq = 'ATGCGCAT'\n",
        "    k = 3\n",
        "    print('Sequence:', seq)\n",
        "    print('\\nSimple canonical counts:')\n",
        "    print(count_kmers_simple(seq, k, strand_aware=False))\n",
        "    print('\\nSimple strand-aware counts:')\n",
        "    print(count_kmers_simple(seq, k, strand_aware=True))\n",
        "    print('\\nRolling canonical counts:')\n",
        "    print(count_kmers_rolling(seq, k, strand_aware=False))\n",
        "    print('\\nRolling strand-aware counts:')\n",
        "    print(count_kmers_rolling(seq, k, strand_aware=True))\n",
        "    print('\\nCanonical space sizes for k=1..6:')\n",
        "    for kk in range(1,7):\n",
        "        print(kk, canonical_space_size(kk))\n"
      ]
    },
    {
      "cell_type": "markdown",
      "id": "cb8a7649",
      "metadata": {
        "id": "cb8a7649"
      },
      "source": [
        "## Notes, parameters and caveats\n",
        "\n",
        "- We used a simple Hamming-distance-based approximate matcher (allowing mismatches) for DnaA-box detection. For increased sensitivity use a PWM or FIMO-style search.\n",
        "- The scoring function is heuristic: motif density weighted with proximity to the cumulative GC skew global minimum. You can tune weights and window sizes for your dataset.\n",
        "- E. coli oriC is typically ~245 bp with multiple DnaA boxes (R1-R5 etc.) and an AT-rich DUE. Our window sizes (1-3 kb) aim to capture clusters of boxes."
      ]
    },
    {
      "cell_type": "markdown",
      "id": "d1412b82",
      "metadata": {
        "id": "d1412b82"
      },
      "source": [
        "# E. coli oriC detection - DnaA-box motif search, sliding-window density, and GC-skew"
      ]
    },
    {
      "cell_type": "markdown",
      "id": "31ba9178",
      "metadata": {
        "id": "31ba9178"
      },
      "source": [
        "## Biological background (brief)\n",
        "\n",
        "In E. coli, the origin of replication (oriC) contains multiple DnaA-box 9-mer motifs (consensus often written 'TTATCCACA'), an AT-rich DUE, and nearby regulatory sites. We search for clusters of DnaA-box matches and corroborate them with cumulative GC-skew minima to produce candidate oriC windows."
      ]
    },
    {
      "cell_type": "code",
      "execution_count": 7,
      "id": "9ab93287",
      "metadata": {
        "id": "9ab93287"
      },
      "outputs": [],
      "source": [
        "\n",
        "# E. coli extension: motif matching, sliding-window density, GC skew, scoring, FASTA reader\n",
        "\n",
        "from collections import defaultdict\n",
        "import math\n",
        "\n",
        "# exact reverse complement helper\n",
        "COMP = str.maketrans('ACGTacgt', 'TGCAtgca')\n",
        "\n",
        "def rev_comp(s: str) -> str:\n",
        "    return s.translate(COMP)[::-1]\n",
        "\n",
        "# Hamming distance\n",
        "def hamming(s: str, t: str) -> int:\n",
        "    assert len(s) == len(t)\n",
        "    return sum(ch1 != ch2 for ch1, ch2 in zip(s, t))\n",
        "\n",
        "# find exact motif positions\n",
        "def find_exact_motif_positions(seq: str, motif: str):\n",
        "    seq = seq.upper()\n",
        "    motif = motif.upper()\n",
        "    positions = []\n",
        "    m = len(motif)\n",
        "    for i in range(len(seq) - m + 1):\n",
        "        if seq[i:i+m] == motif:\n",
        "            positions.append(i)\n",
        "    return positions\n",
        "\n",
        "# find approximate motif positions (allow up to max_mismatches)\n",
        "def find_approx_motif_positions(seq: str, motif: str, max_mismatches: int=1):\n",
        "    seq = seq.upper()\n",
        "    motif = motif.upper()\n",
        "    positions = []\n",
        "    m = len(motif)\n",
        "    for i in range(len(seq) - m + 1):\n",
        "        window = seq[i:i+m]\n",
        "        if any(ch not in 'ACGT' for ch in window):\n",
        "            continue\n",
        "        if hamming(window, motif) <= max_mismatches:\n",
        "            positions.append(i)\n",
        "    return positions\n",
        "\n",
        "# sliding-window density of motif matches (counts per window)\n",
        "def sliding_window_density(seq: str, motif: str, window_size: int=1000, step: int=100, max_mismatches:int=1):\n",
        "    seq = seq.upper()\n",
        "    positions = find_approx_motif_positions(seq, motif, max_mismatches=max_mismatches)\n",
        "    # build prefix sum of motif hits\n",
        "    hit = [0] * (len(seq) + 1)\n",
        "    m = len(motif)\n",
        "    for p in positions:\n",
        "        # mark hit at p (we count motif by start position)\n",
        "        if 0 <= p < len(seq):\n",
        "            hit[p+1] += 1\n",
        "    # prefix sum\n",
        "    for i in range(1, len(hit)):\n",
        "        hit[i] += hit[i-1]\n",
        "    windows = []\n",
        "    if len(seq) < window_size:\n",
        "        # single window covering whole sequence\n",
        "        count = hit[len(seq)] - hit[0]\n",
        "        windows.append((0, len(seq), count))\n",
        "        return windows\n",
        "    for start in range(0, max(1, len(seq) - window_size + 1), step):\n",
        "        end = start + window_size\n",
        "        count = hit[min(end, len(seq))] - hit[start]\n",
        "        windows.append((start, end, count))\n",
        "    return windows\n",
        "\n",
        "# GC skew calculation\n",
        "def gc_skew_array(seq: str):\n",
        "    seq = seq.upper()\n",
        "    arr = []\n",
        "    for ch in seq:\n",
        "        if ch == 'G':\n",
        "            arr.append(1)\n",
        "        elif ch == 'C':\n",
        "            arr.append(-1)\n",
        "        else:\n",
        "            arr.append(0)\n",
        "    return arr\n",
        "\n",
        "# cumulative GC skew (per-base cumulative sum of G-C)\n",
        "def cumulative_gc_skew(seq: str):\n",
        "    arr = gc_skew_array(seq)\n",
        "    cum = [0]\n",
        "    s = 0\n",
        "    for v in arr:\n",
        "        s += v\n",
        "        cum.append(s)\n",
        "    # cum is length n+1; position i corresponds to sum up to base i-1\n",
        "    return cum\n",
        "\n",
        "# Combined scoring: motif density (normalized) + proximity to cumulative minimum\n",
        "def score_windows_by_motif_and_skew(seq: str, motif: str, window_size: int=2000, step: int=200, max_mismatches:int=1):\n",
        "    seq = seq.upper()\n",
        "    windows = sliding_window_density(seq, motif, window_size=window_size, step=step, max_mismatches=max_mismatches)\n",
        "    cum = cumulative_gc_skew(seq)\n",
        "    if len(cum) == 0:\n",
        "        return []\n",
        "    # find global minima index\n",
        "    min_idx = min(range(len(cum)), key=lambda i: cum[i])\n",
        "    scored = []\n",
        "    max_count = max((w[2] for w in windows), default=1)\n",
        "    for start, end, count in windows:\n",
        "        center = (start + end)//2\n",
        "        # motif score normalized\n",
        "        motif_score = count / max_count if max_count > 0 else 0.0\n",
        "        # proximity score to GC skew minimum (smaller distance -> higher score)\n",
        "        dist = abs(center - min_idx)\n",
        "        prox_score = 1 / (1 + math.log(1 + dist)) if dist > 0 else 1.0\n",
        "        total = 0.6 * motif_score + 0.4 * prox_score\n",
        "        scored.append({'start': start, 'end': end, 'count': count, 'motif_score': motif_score, 'prox_score': prox_score, 'total': total})\n",
        "    scored_sorted = sorted(scored, key=lambda x: x['total'], reverse=True)\n",
        "    return scored_sorted\n",
        "\n",
        "# FASTA reader (included here)\n",
        "def read_fasta(fp):\n",
        "    if isinstance(fp, str):\n",
        "        f = open(fp, 'r')\n",
        "        close_after = True\n",
        "    else:\n",
        "        f = fp\n",
        "        close_after = False\n",
        "    header = None\n",
        "    seq_chunks = []\n",
        "    for line in f:\n",
        "        line = line.rstrip('\\n')\n",
        "        if not line:\n",
        "            continue\n",
        "        if line.startswith('>'):\n",
        "            if header is not None:\n",
        "                yield header, ''.join(seq_chunks)\n",
        "            header = line[1:].strip()\n",
        "            seq_chunks = []\n",
        "        else:\n",
        "            seq_chunks.append(line.strip())\n",
        "    if header is not None:\n",
        "        yield header, ''.join(seq_chunks)\n",
        "    if close_after:\n",
        "        f.close()\n"
      ]
    },
    {
      "cell_type": "markdown",
      "source": [
        "## Example usage (run these cells in the notebook)\n",
        "\n",
        "1. Set parameters for E. coli (DnaA-box motif & FASTA path) and load the sequence:"
      ],
      "metadata": {
        "id": "-G4JSF_sZ-7y"
      },
      "id": "-G4JSF_sZ-7y"
    },
    {
      "cell_type": "code",
      "source": [
        "motif = 'TTATCCACA'  # canonical DnaA-box; you can allow mismatches\n",
        "fasta_path = '/content/sequence.fasta'  # replace with your file\n",
        "header, seq = next(read_fasta(fasta_path))\n",
        "print('Loaded', header, 'len=', len(seq))"
      ],
      "metadata": {
        "id": "GJZRgpifZ9w6",
        "colab": {
          "base_uri": "https://localhost:8080/"
        },
        "outputId": "51d578c2-59a0-4998-cacf-96f198a850c6"
      },
      "id": "GJZRgpifZ9w6",
      "execution_count": 8,
      "outputs": [
        {
          "output_type": "stream",
          "name": "stdout",
          "text": [
            "Loaded AP022815.1 Escherichia coli JE86-ST05 DNA, complete genome len= 5327513\n"
          ]
        }
      ]
    },
    {
      "cell_type": "markdown",
      "source": [
        "2. Compute scored windows and show top candidates:"
      ],
      "metadata": {
        "id": "RSsi8mliaJIp"
      },
      "id": "RSsi8mliaJIp"
    },
    {
      "cell_type": "code",
      "source": [
        "scored = score_windows_by_motif_and_skew(seq, motif, window_size=2000, step=200, max_mismatches=1)\n",
        "for s in scored[:10]:\n",
        "    print(s)\n"
      ],
      "metadata": {
        "id": "bGVNUr0waLQ6",
        "colab": {
          "base_uri": "https://localhost:8080/"
        },
        "outputId": "b83d30f5-63c0-41ee-fdc2-40127da14be7"
      },
      "id": "bGVNUr0waLQ6",
      "execution_count": 9,
      "outputs": [
        {
          "output_type": "stream",
          "name": "stdout",
          "text": [
            "{'start': 4589800, 'end': 4591800, 'count': 4, 'motif_score': 1.0, 'prox_score': 0.07859516195241725, 'total': 0.6314380647809669}\n",
            "{'start': 4590000, 'end': 4592000, 'count': 4, 'motif_score': 1.0, 'prox_score': 0.07858516209021259, 'total': 0.631434064836085}\n",
            "{'start': 5016400, 'end': 5018400, 'count': 4, 'motif_score': 1.0, 'prox_score': 0.0703347252728311, 'total': 0.6281338901091325}\n",
            "{'start': 5016600, 'end': 5018600, 'count': 4, 'motif_score': 1.0, 'prox_score': 0.0703329268444081, 'total': 0.6281331707377632}\n",
            "{'start': 5206600, 'end': 5208600, 'count': 4, 'motif_score': 1.0, 'prox_score': 0.06889559425844145, 'total': 0.6275582377033766}\n",
            "{'start': 5206800, 'end': 5208800, 'count': 4, 'motif_score': 1.0, 'prox_score': 0.0688943119884823, 'total': 0.6275577247953928}\n",
            "{'start': 5207000, 'end': 5209000, 'count': 4, 'motif_score': 1.0, 'prox_score': 0.068893030112545, 'total': 0.627557212045018}\n",
            "{'start': 5207200, 'end': 5209200, 'count': 4, 'motif_score': 1.0, 'prox_score': 0.06889174863040123, 'total': 0.6275566994521604}\n",
            "{'start': 5207400, 'end': 5209400, 'count': 4, 'motif_score': 1.0, 'prox_score': 0.06889046754182289, 'total': 0.6275561870167291}\n",
            "{'start': 5207600, 'end': 5209600, 'count': 4, 'motif_score': 1.0, 'prox_score': 0.06888918684658205, 'total': 0.6275556747386328}\n"
          ]
        }
      ]
    },
    {
      "cell_type": "markdown",
      "source": [
        "3. Plot cumulative GC skew and motif density (requires matplotlib):"
      ],
      "metadata": {
        "id": "jRfPK47jaRUq"
      },
      "id": "jRfPK47jaRUq"
    },
    {
      "cell_type": "code",
      "source": [
        "import matplotlib.pyplot as plt\n",
        "cum = cumulative_gc_skew(seq)\n",
        "plt.figure(figsize=(12,3))\n",
        "plt.plot(cum)\n",
        "plt.title('Cumulative GC skew (genome)')\n",
        "plt.xlabel('Position (bp)')\n",
        "plt.ylabel('Cumulative (G-C)')\n",
        "plt.grid(True)\n",
        "plt.show()\n",
        "\n",
        "windows = sliding_window_density(seq, motif, window_size=2000, step=200, max_mismatches=1)\n",
        "x = [(s[0]+s[1])//2 for s in windows]\n",
        "counts = [s[2] for s in windows]\n",
        "plt.figure(figsize=(12,3))\n",
        "plt.plot(x, counts)\n",
        "plt.title('DnaA-box counts per window')\n",
        "plt.xlabel('Position (bp)')\n",
        "plt.ylabel('Counts')\n",
        "plt.grid(True)\n",
        "plt.show()\n"
      ],
      "metadata": {
        "id": "sg5fmjMgaS_q",
        "colab": {
          "base_uri": "https://localhost:8080/",
          "height": 649
        },
        "outputId": "c969ec1e-a641-4431-83ae-7da33d2ae503"
      },
      "id": "sg5fmjMgaS_q",
      "execution_count": 10,
      "outputs": [
        {
          "output_type": "display_data",
          "data": {
            "text/plain": [
              "<Figure size 1200x300 with 1 Axes>"
            ],
            "image/png": "[encoded data removed]"
          },
          "metadata": {}
        },
        {
          "output_type": "display_data",
          "data": {
            "text/plain": [
              "<Figure size 1200x300 with 1 Axes>"
            ],
            "image/png": "[encoded data removed]"
          },
          "metadata": {}
        }
      ]
    },
    {
      "cell_type": "markdown",
      "id": "28ecc69e",
      "metadata": {
        "id": "28ecc69e"
      },
      "source": [
        "\n",
        "\n",
        "\n",
        "\n",
        "\n",
        "\n",
        "\n",
        "4. Tune parameters: window_size, step, max_mismatches, and the motif string itself."
      ]
    }
  ],
  "metadata": {
    "colab": {
      "provenance": []
    },
    "language_info": {
      "name": "python"
    },
    "kernelspec": {
      "name": "python3",
      "display_name": "Python 3"
    }
  },
  "nbformat": 4,
  "nbformat_minor": 5
}